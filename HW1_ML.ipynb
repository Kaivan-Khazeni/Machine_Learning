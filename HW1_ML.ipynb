{
  "nbformat": 4,
  "nbformat_minor": 0,
  "metadata": {
    "colab": {
      "name": "HW1_ML.ipynb",
      "provenance": [],
      "authorship_tag": "ABX9TyMIE3IJGKLqaE3EXfhnhVeC",
      "include_colab_link": true
    },
    "kernelspec": {
      "name": "python3",
      "display_name": "Python 3"
    },
    "language_info": {
      "name": "python"
    }
  },
  "cells": [
    {
      "cell_type": "markdown",
      "metadata": {
        "id": "view-in-github",
        "colab_type": "text"
      },
      "source": [
        "<a href=\"https://colab.research.google.com/github/Kaivan-Khazeni/Machine_Learning/blob/main/HW1_ML.ipynb\" target=\"_parent\"><img src=\"https://colab.research.google.com/assets/colab-badge.svg\" alt=\"Open In Colab\"/></a>"
      ]
    },
    {
      "cell_type": "code",
      "metadata": {
        "colab": {
          "base_uri": "https://localhost:8080/"
        },
        "id": "o90RvbU3JbZh",
        "outputId": "96d47c45-52b8-4dc5-ce4e-e1d6bb4d5ab5"
      },
      "source": [
        "import pandas as pd\n",
        "import io\n",
        "%matplotlib inline\n",
        "import matplotlib.pyplot as plt\n",
        "plt.style.use('seaborn-whitegrid')\n",
        "\n",
        "import numpy as np\n",
        "import statsmodels.formula.api as smf\n",
        "import seaborn as sb"
      ],
      "execution_count": 2,
      "outputs": [
        {
          "output_type": "stream",
          "name": "stderr",
          "text": [
            "/usr/local/lib/python3.7/dist-packages/statsmodels/tools/_testing.py:19: FutureWarning: pandas.util.testing is deprecated. Use the functions in the public API at pandas.testing instead.\n",
            "  import pandas.util.testing as tm\n"
          ]
        }
      ]
    },
    {
      "cell_type": "code",
      "metadata": {
        "id": "ZA53uZodH6uM"
      },
      "source": [
        "labels_value = ['unacc','acc','good','vgood']\n",
        "#label is where the values of each item is stored.  It is not binary,\n",
        "#it is unacceptable, acceptable, good, very good.  This is different \n",
        "#then before\n",
        "attributes = ['buying','maint','doors','persons','lug_boot','safety','label']"
      ],
      "execution_count": 3,
      "outputs": []
    },
    {
      "cell_type": "code",
      "metadata": {
        "colab": {
          "base_uri": "https://localhost:8080/",
          "height": 204
        },
        "id": "Oi7cEq9vJgw7",
        "outputId": "6c2e18a7-59e5-4b64-c2ca-546570c89377"
      },
      "source": [
        "df = pd.read_csv ('train.csv',names=attributes)\n",
        "df.head(5)\n",
        "df_test = pd.read_csv ('test.csv',names=attributes)\n",
        "df_test.head(5)"
      ],
      "execution_count": 41,
      "outputs": [
        {
          "output_type": "execute_result",
          "data": {
            "text/html": [
              "<div>\n",
              "<style scoped>\n",
              "    .dataframe tbody tr th:only-of-type {\n",
              "        vertical-align: middle;\n",
              "    }\n",
              "\n",
              "    .dataframe tbody tr th {\n",
              "        vertical-align: top;\n",
              "    }\n",
              "\n",
              "    .dataframe thead th {\n",
              "        text-align: right;\n",
              "    }\n",
              "</style>\n",
              "<table border=\"1\" class=\"dataframe\">\n",
              "  <thead>\n",
              "    <tr style=\"text-align: right;\">\n",
              "      <th></th>\n",
              "      <th>buying</th>\n",
              "      <th>maint</th>\n",
              "      <th>doors</th>\n",
              "      <th>persons</th>\n",
              "      <th>lug_boot</th>\n",
              "      <th>safety</th>\n",
              "      <th>label</th>\n",
              "    </tr>\n",
              "  </thead>\n",
              "  <tbody>\n",
              "    <tr>\n",
              "      <th>0</th>\n",
              "      <td>vhigh</td>\n",
              "      <td>high</td>\n",
              "      <td>5more</td>\n",
              "      <td>2</td>\n",
              "      <td>small</td>\n",
              "      <td>low</td>\n",
              "      <td>unacc</td>\n",
              "    </tr>\n",
              "    <tr>\n",
              "      <th>1</th>\n",
              "      <td>low</td>\n",
              "      <td>low</td>\n",
              "      <td>5more</td>\n",
              "      <td>2</td>\n",
              "      <td>small</td>\n",
              "      <td>med</td>\n",
              "      <td>unacc</td>\n",
              "    </tr>\n",
              "    <tr>\n",
              "      <th>2</th>\n",
              "      <td>low</td>\n",
              "      <td>vhigh</td>\n",
              "      <td>4</td>\n",
              "      <td>2</td>\n",
              "      <td>med</td>\n",
              "      <td>low</td>\n",
              "      <td>unacc</td>\n",
              "    </tr>\n",
              "    <tr>\n",
              "      <th>3</th>\n",
              "      <td>high</td>\n",
              "      <td>vhigh</td>\n",
              "      <td>3</td>\n",
              "      <td>4</td>\n",
              "      <td>med</td>\n",
              "      <td>med</td>\n",
              "      <td>unacc</td>\n",
              "    </tr>\n",
              "    <tr>\n",
              "      <th>4</th>\n",
              "      <td>vhigh</td>\n",
              "      <td>low</td>\n",
              "      <td>4</td>\n",
              "      <td>4</td>\n",
              "      <td>med</td>\n",
              "      <td>low</td>\n",
              "      <td>unacc</td>\n",
              "    </tr>\n",
              "  </tbody>\n",
              "</table>\n",
              "</div>"
            ],
            "text/plain": [
              "  buying  maint  doors persons lug_boot safety  label\n",
              "0  vhigh   high  5more       2    small    low  unacc\n",
              "1    low    low  5more       2    small    med  unacc\n",
              "2    low  vhigh      4       2      med    low  unacc\n",
              "3   high  vhigh      3       4      med    med  unacc\n",
              "4  vhigh    low      4       4      med    low  unacc"
            ]
          },
          "metadata": {},
          "execution_count": 41
        }
      ]
    },
    {
      "cell_type": "code",
      "metadata": {
        "colab": {
          "base_uri": "https://localhost:8080/",
          "height": 483
        },
        "id": "K-PPSOKImyH7",
        "outputId": "c5485691-e014-4dc2-d100-b0fa0b889504"
      },
      "source": [
        "test_dict = {'Outlook':['S','S','O','R','R','R','O','S','S','R','S','O','O','R'],\n",
        "         'Temp':['H','H','H','M','C','C','C','M','C','M','M','M','H','M'],\n",
        "         'Humid':['H','H','H','H','N','N','N','H','N','N','N','H','N','H'],\n",
        "         'Wind':['W','S','W','W','W','S','S','W','W','W','S','S','W','S'],\n",
        "         'Play':['-','-','+','+','+','-','+','-','+','+','+','+','+','-']}\n",
        "test_df = pd.DataFrame(test_dict)\n",
        "test_df"
      ],
      "execution_count": 5,
      "outputs": [
        {
          "output_type": "execute_result",
          "data": {
            "text/html": [
              "<div>\n",
              "<style scoped>\n",
              "    .dataframe tbody tr th:only-of-type {\n",
              "        vertical-align: middle;\n",
              "    }\n",
              "\n",
              "    .dataframe tbody tr th {\n",
              "        vertical-align: top;\n",
              "    }\n",
              "\n",
              "    .dataframe thead th {\n",
              "        text-align: right;\n",
              "    }\n",
              "</style>\n",
              "<table border=\"1\" class=\"dataframe\">\n",
              "  <thead>\n",
              "    <tr style=\"text-align: right;\">\n",
              "      <th></th>\n",
              "      <th>Outlook</th>\n",
              "      <th>Temp</th>\n",
              "      <th>Humid</th>\n",
              "      <th>Wind</th>\n",
              "      <th>Play</th>\n",
              "    </tr>\n",
              "  </thead>\n",
              "  <tbody>\n",
              "    <tr>\n",
              "      <th>0</th>\n",
              "      <td>S</td>\n",
              "      <td>H</td>\n",
              "      <td>H</td>\n",
              "      <td>W</td>\n",
              "      <td>-</td>\n",
              "    </tr>\n",
              "    <tr>\n",
              "      <th>1</th>\n",
              "      <td>S</td>\n",
              "      <td>H</td>\n",
              "      <td>H</td>\n",
              "      <td>S</td>\n",
              "      <td>-</td>\n",
              "    </tr>\n",
              "    <tr>\n",
              "      <th>2</th>\n",
              "      <td>O</td>\n",
              "      <td>H</td>\n",
              "      <td>H</td>\n",
              "      <td>W</td>\n",
              "      <td>+</td>\n",
              "    </tr>\n",
              "    <tr>\n",
              "      <th>3</th>\n",
              "      <td>R</td>\n",
              "      <td>M</td>\n",
              "      <td>H</td>\n",
              "      <td>W</td>\n",
              "      <td>+</td>\n",
              "    </tr>\n",
              "    <tr>\n",
              "      <th>4</th>\n",
              "      <td>R</td>\n",
              "      <td>C</td>\n",
              "      <td>N</td>\n",
              "      <td>W</td>\n",
              "      <td>+</td>\n",
              "    </tr>\n",
              "    <tr>\n",
              "      <th>5</th>\n",
              "      <td>R</td>\n",
              "      <td>C</td>\n",
              "      <td>N</td>\n",
              "      <td>S</td>\n",
              "      <td>-</td>\n",
              "    </tr>\n",
              "    <tr>\n",
              "      <th>6</th>\n",
              "      <td>O</td>\n",
              "      <td>C</td>\n",
              "      <td>N</td>\n",
              "      <td>S</td>\n",
              "      <td>+</td>\n",
              "    </tr>\n",
              "    <tr>\n",
              "      <th>7</th>\n",
              "      <td>S</td>\n",
              "      <td>M</td>\n",
              "      <td>H</td>\n",
              "      <td>W</td>\n",
              "      <td>-</td>\n",
              "    </tr>\n",
              "    <tr>\n",
              "      <th>8</th>\n",
              "      <td>S</td>\n",
              "      <td>C</td>\n",
              "      <td>N</td>\n",
              "      <td>W</td>\n",
              "      <td>+</td>\n",
              "    </tr>\n",
              "    <tr>\n",
              "      <th>9</th>\n",
              "      <td>R</td>\n",
              "      <td>M</td>\n",
              "      <td>N</td>\n",
              "      <td>W</td>\n",
              "      <td>+</td>\n",
              "    </tr>\n",
              "    <tr>\n",
              "      <th>10</th>\n",
              "      <td>S</td>\n",
              "      <td>M</td>\n",
              "      <td>N</td>\n",
              "      <td>S</td>\n",
              "      <td>+</td>\n",
              "    </tr>\n",
              "    <tr>\n",
              "      <th>11</th>\n",
              "      <td>O</td>\n",
              "      <td>M</td>\n",
              "      <td>H</td>\n",
              "      <td>S</td>\n",
              "      <td>+</td>\n",
              "    </tr>\n",
              "    <tr>\n",
              "      <th>12</th>\n",
              "      <td>O</td>\n",
              "      <td>H</td>\n",
              "      <td>N</td>\n",
              "      <td>W</td>\n",
              "      <td>+</td>\n",
              "    </tr>\n",
              "    <tr>\n",
              "      <th>13</th>\n",
              "      <td>R</td>\n",
              "      <td>M</td>\n",
              "      <td>H</td>\n",
              "      <td>S</td>\n",
              "      <td>-</td>\n",
              "    </tr>\n",
              "  </tbody>\n",
              "</table>\n",
              "</div>"
            ],
            "text/plain": [
              "   Outlook Temp Humid Wind Play\n",
              "0        S    H     H    W    -\n",
              "1        S    H     H    S    -\n",
              "2        O    H     H    W    +\n",
              "3        R    M     H    W    +\n",
              "4        R    C     N    W    +\n",
              "5        R    C     N    S    -\n",
              "6        O    C     N    S    +\n",
              "7        S    M     H    W    -\n",
              "8        S    C     N    W    +\n",
              "9        R    M     N    W    +\n",
              "10       S    M     N    S    +\n",
              "11       O    M     H    S    +\n",
              "12       O    H     N    W    +\n",
              "13       R    M     H    S    -"
            ]
          },
          "metadata": {},
          "execution_count": 5
        }
      ]
    },
    {
      "cell_type": "code",
      "metadata": {
        "colab": {
          "base_uri": "https://localhost:8080/"
        },
        "id": "1U1ALKroW9Cl",
        "outputId": "60c9d407-71ae-44e6-ce27-5ba848ee6114"
      },
      "source": [
        "dummy_df = df[[\"buying\" ,\"label\"]]\n",
        "\n",
        "dummy_df['buying'].unique()\n"
      ],
      "execution_count": 6,
      "outputs": [
        {
          "output_type": "execute_result",
          "data": {
            "text/plain": [
              "array(['low', 'vhigh', 'high', 'med'], dtype=object)"
            ]
          },
          "metadata": {},
          "execution_count": 6
        }
      ]
    },
    {
      "cell_type": "code",
      "metadata": {
        "colab": {
          "base_uri": "https://localhost:8080/"
        },
        "id": "RDPcL5eJlVZw",
        "outputId": "4a4fd014-5f9f-4fed-9de9-eb32ecc2cd64"
      },
      "source": [
        "dummy_low = dummy_df[df.buying =='med']\n",
        "print(len(dummy_low))\n",
        "len(dummy_low[dummy_low.label == \"good\"])"
      ],
      "execution_count": 7,
      "outputs": [
        {
          "output_type": "stream",
          "name": "stdout",
          "text": [
            "248\n"
          ]
        },
        {
          "output_type": "execute_result",
          "data": {
            "text/plain": [
              "17"
            ]
          },
          "metadata": {},
          "execution_count": 7
        }
      ]
    },
    {
      "cell_type": "code",
      "metadata": {
        "colab": {
          "base_uri": "https://localhost:8080/"
        },
        "id": "V4rpmSpnlt6a",
        "outputId": "17e9ef54-c730-4394-b43f-a882ea40cb46"
      },
      "source": [
        "dummy_low.label.unique()"
      ],
      "execution_count": 8,
      "outputs": [
        {
          "output_type": "execute_result",
          "data": {
            "text/plain": [
              "array(['unacc', 'acc', 'vgood', 'good'], dtype=object)"
            ]
          },
          "metadata": {},
          "execution_count": 8
        }
      ]
    },
    {
      "cell_type": "code",
      "metadata": {
        "colab": {
          "base_uri": "https://localhost:8080/"
        },
        "id": "rV93k-E-5d-J",
        "outputId": "0dfa7b35-d81b-41f7-d61e-368311bc9187"
      },
      "source": [
        "test_dictB = {'A':['K','A','I','K','A'],\n",
        "         'B':['A','A','C','B','B'],\n",
        "         'Y':['yes','no','so','maybe','so']}\n",
        "test_dfB = pd.DataFrame(test_dictB)\n",
        "test_dfB['A']"
      ],
      "execution_count": 9,
      "outputs": [
        {
          "output_type": "execute_result",
          "data": {
            "text/plain": [
              "0    K\n",
              "1    A\n",
              "2    I\n",
              "3    K\n",
              "4    A\n",
              "Name: A, dtype: object"
            ]
          },
          "metadata": {},
          "execution_count": 9
        }
      ]
    },
    {
      "cell_type": "code",
      "metadata": {
        "id": "isJqW1BxNqGp"
      },
      "source": [
        "attribute_values = {\n",
        "    \"buying\": df['buying'].unique(),\n",
        "    \"maint\": df['maint'].unique(),\n",
        "    \"doors\": df['doors'].unique(),\n",
        "    \"persons\": df['persons'].unique(),\n",
        "    \"lug_boot\": df['lug_boot'].unique(),\n",
        "    \"safety\": df['safety'].unique()\n",
        "}"
      ],
      "execution_count": 10,
      "outputs": []
    },
    {
      "cell_type": "code",
      "metadata": {
        "colab": {
          "base_uri": "https://localhost:8080/",
          "height": 204
        },
        "id": "PItf2yNyTeoc",
        "outputId": "b2df6adb-694c-4263-c07e-4d818daccd28"
      },
      "source": [
        "hey = test_df[['Outlook',test_df.keys()[-1]]]\n",
        "hey[hey[\"Outlook\"] == \"S\"]"
      ],
      "execution_count": 11,
      "outputs": [
        {
          "output_type": "execute_result",
          "data": {
            "text/html": [
              "<div>\n",
              "<style scoped>\n",
              "    .dataframe tbody tr th:only-of-type {\n",
              "        vertical-align: middle;\n",
              "    }\n",
              "\n",
              "    .dataframe tbody tr th {\n",
              "        vertical-align: top;\n",
              "    }\n",
              "\n",
              "    .dataframe thead th {\n",
              "        text-align: right;\n",
              "    }\n",
              "</style>\n",
              "<table border=\"1\" class=\"dataframe\">\n",
              "  <thead>\n",
              "    <tr style=\"text-align: right;\">\n",
              "      <th></th>\n",
              "      <th>Outlook</th>\n",
              "      <th>Play</th>\n",
              "    </tr>\n",
              "  </thead>\n",
              "  <tbody>\n",
              "    <tr>\n",
              "      <th>0</th>\n",
              "      <td>S</td>\n",
              "      <td>-</td>\n",
              "    </tr>\n",
              "    <tr>\n",
              "      <th>1</th>\n",
              "      <td>S</td>\n",
              "      <td>-</td>\n",
              "    </tr>\n",
              "    <tr>\n",
              "      <th>7</th>\n",
              "      <td>S</td>\n",
              "      <td>-</td>\n",
              "    </tr>\n",
              "    <tr>\n",
              "      <th>8</th>\n",
              "      <td>S</td>\n",
              "      <td>+</td>\n",
              "    </tr>\n",
              "    <tr>\n",
              "      <th>10</th>\n",
              "      <td>S</td>\n",
              "      <td>+</td>\n",
              "    </tr>\n",
              "  </tbody>\n",
              "</table>\n",
              "</div>"
            ],
            "text/plain": [
              "   Outlook Play\n",
              "0        S    -\n",
              "1        S    -\n",
              "7        S    -\n",
              "8        S    +\n",
              "10       S    +"
            ]
          },
          "metadata": {},
          "execution_count": 11
        }
      ]
    },
    {
      "cell_type": "code",
      "metadata": {
        "id": "p0nCyhhfC7Z6"
      },
      "source": [
        ""
      ],
      "execution_count": 26,
      "outputs": []
    },
    {
      "cell_type": "markdown",
      "metadata": {
        "id": "I750cyP9WPtN"
      },
      "source": [
        ""
      ]
    },
    {
      "cell_type": "code",
      "metadata": {
        "colab": {
          "base_uri": "https://localhost:8080/"
        },
        "id": "35R5pyCmUGpN",
        "outputId": "3554a860-73f7-49a7-ccf6-4b091bc1b7b1"
      },
      "source": [
        "decision_table = ID3(-1*float(\"inf\"),1,1,df,\"none\",tree=None)\n",
        "decision_table"
      ],
      "execution_count": 39,
      "outputs": [
        {
          "output_type": "stream",
          "name": "stdout",
          "text": [
            "{'buying': 0.1015247071248564, 'maint': 0.07741985577459665, 'doors': 0.006726514230977809, 'persons': 0.22441128678577127, 'lug_boot': 0.03688725199484155, 'safety': 0.25822501448993584}\n",
            "{'buying': 0.1496223368823797, 'maint': 0.13639630335579112, 'doors': 0.012104212356617072, 'persons': 0.3238309442054772, 'lug_boot': 0.09072212234577748}\n",
            "{'buying': 0.2149705218635023, 'maint': 0.13719227312353488, 'doors': 0.018366645266694848, 'persons': 0.511350583869971, 'lug_boot': 0.12600833155954394}\n"
          ]
        },
        {
          "output_type": "execute_result",
          "data": {
            "text/plain": [
              "{'safety': {'high': {'persons': {'2': 'unacc', '4': 'acc', 'more': 'acc'}},\n",
              "  'low': 'unacc',\n",
              "  'med': {'persons': {'2': 'unacc', '4': 'acc', 'more': 'acc'}}}}"
            ]
          },
          "metadata": {},
          "execution_count": 39
        }
      ]
    },
    {
      "cell_type": "code",
      "metadata": {
        "colab": {
          "base_uri": "https://localhost:8080/"
        },
        "id": "YrMEsMICLjJ5",
        "outputId": "f6daa3ca-66f7-4570-d992-c97a7e588219"
      },
      "source": [
        "import pprint\n",
        "\n",
        "pprint.pprint(decision_table)"
      ],
      "execution_count": 40,
      "outputs": [
        {
          "output_type": "stream",
          "name": "stdout",
          "text": [
            "{'safety': {'high': {'persons': {'2': 'unacc', '4': 'acc', 'more': 'acc'}},\n",
            "            'low': 'unacc',\n",
            "            'med': {'persons': {'2': 'unacc', '4': 'acc', 'more': 'acc'}}}}\n"
          ]
        }
      ]
    },
    {
      "cell_type": "code",
      "metadata": {
        "id": "eCl4UkunWUfC"
      },
      "source": [
        ""
      ],
      "execution_count": 18,
      "outputs": []
    },
    {
      "cell_type": "markdown",
      "metadata": {
        "id": "CEBOdxHzLwoO"
      },
      "source": [
        "ID3 function below will take in a depth parameter and a variant indicator.  This way, we can specify if we want\n",
        "to use Entropy, ME, or Gini Index.  It will also take in the S table."
      ]
    },
    {
      "cell_type": "code",
      "metadata": {
        "id": "vnihSoBhOgOB"
      },
      "source": [
        "#max depth will range from 1 - 6\n",
        "def ID3(max_labels,max_depth, variant,S,A,tree=None):\n",
        "\n",
        "  #if len(S[S.keys()[-1]].unique()) > max_labels:\n",
        "  max_labels = len(S[S.keys()[-1]].unique())\n",
        "  labels_value = S[S.keys()[-1]].unique()\n",
        "  Class = S.keys()[-1]\n",
        "  #Step 1: check if all examplesa have the same label\n",
        "  #keep counter to make sure iterations do not exceed the max depth\n",
        "  if max_depth >= 0:\n",
        "    \n",
        "    #print(\"In this call 1, 2 ..\")\n",
        "    #Finding root based off of gain\n",
        "    #A. Find Total entropy using variant\n",
        "    total_entropy = find_total_entropy(max_labels, variant,S)\n",
        "    #print(\"Found total entropy 1,2\")\n",
        "    #print(total_entropy)\n",
        "    #B. Now find the best split, which is A.\n",
        "    table_attributes = S.loc[:,S.columns != S.keys()[-1]].columns\n",
        "    #print(table_attributes)\n",
        "\n",
        "    best_A = find_best_split(max_labels,variant,table_attributes,S,total_entropy)\n",
        "    #print(best_A)\n",
        "   \n",
        "    #return best_A\n",
        "    A = sorted(best_A.items(), key=lambda x: x[1],reverse=True)[0][0]\n",
        "\n",
        "\n",
        "    #print(A)\n",
        "    if tree is None:                    \n",
        "      tree={}\n",
        "      tree[A] = {}\n",
        "\n",
        "   \n",
        "    values_of_A = S[A].unique()\n",
        "\n",
        "    for A_val in values_of_A:\n",
        "      Sv = S.loc[S[A]==A_val,S.columns != A]\n",
        "      common,counts = np.unique(Sv[Sv.keys()[-1]],return_counts=True)\n",
        "      if len(counts) == 1 or max_depth == 0:\n",
        "        tree[A][A_val] = common[0]\n",
        "      else:\n",
        "        tree[A][A_val] = ID3(max_labels,max_depth-1,variant,Sv,A,tree=None)     \n",
        "    return tree\n",
        "    \n",
        "\n",
        "\n",
        "      \n"
      ],
      "execution_count": 43,
      "outputs": []
    },
    {
      "cell_type": "code",
      "metadata": {
        "id": "3Idbf_Aj4lp-"
      },
      "source": [
        "def find_best_split(max_labels,variant,attr,S,total_ent):\n",
        "  #Need to check the\n",
        "  \n",
        "  list_of_IG = {}\n",
        "  for A1 in attr:\n",
        "    curr_attr = A1\n",
        "    curr_df = S[[curr_attr,S.keys()[-1]]]\n",
        "    \n",
        "    len_A1_df = len(curr_df[curr_attr])\n",
        "    found_sum_expected_entropy = 0\n",
        "    all_attr_values = curr_df[curr_attr].unique()\n",
        "    #print(all_attr_values)\n",
        "    #print(counter)\n",
        "    for A2 in all_attr_values:\n",
        "      \n",
        "      attribute_specific = curr_df[curr_df[curr_attr] == A2]\n",
        "      #print(attribute_specific)\n",
        "      found_expected_entropy = 0\n",
        "      entropy = find_total_entropy(max_labels,variant,attribute_specific)\n",
        "      if (entropy == 1 and variant == 2):\n",
        "        entropy = 0\n",
        "      #print(entropy)\n",
        "      found_sum_expected_entropy += (entropy * (len(attribute_specific)/len_A1_df))\n",
        "    #print(found_sum_expected_entropy)\n",
        "    list_of_IG[A1] = total_ent - found_sum_expected_entropy   \n",
        "  return list_of_IG\n"
      ],
      "execution_count": 16,
      "outputs": []
    },
    {
      "cell_type": "code",
      "metadata": {
        "id": "tMEx8rkfPskT"
      },
      "source": [
        "def find_gain(total_entropy,expec):\n",
        "  if variant == 1:\n",
        "    #use entropy\n",
        "    d\n",
        "  if variant == 2:\n",
        "    d\n",
        "    #use ME\n",
        "  if variant == 3:\n",
        "    d\n",
        "    #use Gini Index"
      ],
      "execution_count": 17,
      "outputs": []
    },
    {
      "cell_type": "code",
      "metadata": {
        "id": "V3gZ0lfTMFnj"
      },
      "source": [
        "def find_total_entropy(max_labels,variant,S):\n",
        "  if variant == 1:\n",
        "    #use entropy\n",
        "    type_name = S.keys()[-1]\n",
        "    entropy = 0\n",
        "    label_names = S[type_name].unique()\n",
        "    for val in label_names:\n",
        "      #print(val)\n",
        "      p = S[type_name].value_counts()[val] / len(S[type_name])\n",
        "      #print(p)\n",
        "      entropy += -p*np.log2(p)\n",
        "    return entropy\n",
        "  elif variant == 2:\n",
        "    counter = len(labels_value)\n",
        "    \n",
        "    #use ME\n",
        "    type_name = S.keys()[-1]  \n",
        "    #ME = 0\n",
        "    label_names = S[type_name].unique()\n",
        "    list_of_prob = []\n",
        "    for val in label_names:\n",
        "      #print(S)\n",
        "      #print(val)\n",
        "      #print(S[type_name].value_counts()[val])\n",
        "      p = S[type_name].value_counts()[val] / len(S)\n",
        "      list_of_prob.append(p)\n",
        "    #print(list_of_prob)\n",
        "    if len(list_of_prob) == max_labels:\n",
        "      #print(\"Yes\")\n",
        "      return np.min(list_of_prob)\n",
        "    else:\n",
        "      #print(\"No\")\n",
        "      return 0\n",
        "  elif variant == 3:\n",
        "    #use gini\n",
        "    type_name = S.keys()[-1]\n",
        "    #Gini = 0\n",
        "    label_names = S[type_name].unique()\n",
        "    sum_p = 0\n",
        "    for val in label_names:\n",
        "      p = S[type_name].value_counts()[val] / len(S[type_name])\n",
        "      sum_p += np.square(p)\n",
        "\n",
        "    return 1 - sum_p"
      ],
      "execution_count": 18,
      "outputs": []
    },
    {
      "cell_type": "code",
      "metadata": {
        "colab": {
          "base_uri": "https://localhost:8080/"
        },
        "id": "tJfEvqhsMQd9",
        "outputId": "c7e151d8-763d-4a09-ace2-933ad967f1e1"
      },
      "source": [
        "train_tree = ID3(-1*float(\"inf\"),1,1,df,\"none\",tree=None)\n",
        "test_tree = ID3(-1*float(\"inf\"),1,1,df_test,\"none\",tree=None)\n",
        "\n",
        "pprint.pprint(train_tree)\n",
        "aye = list(dict_path(train_tree,path=None))\n",
        "\n",
        "\n"
      ],
      "execution_count": 118,
      "outputs": [
        {
          "output_type": "stream",
          "name": "stdout",
          "text": [
            "{'safety': {'high': {'persons': {'2': 'unacc', '4': 'acc', 'more': 'acc'}},\n",
            "            'low': 'unacc',\n",
            "            'med': {'persons': {'2': 'unacc', '4': 'acc', 'more': 'acc'}}}}\n",
            "(['safety', 'med', 'persons', '4'], 'acc')\n"
          ]
        }
      ]
    },
    {
      "cell_type": "code",
      "metadata": {
        "colab": {
          "base_uri": "https://localhost:8080/"
        },
        "id": "BFmqBEaWBELn",
        "outputId": "a980fddd-159e-4e42-8fd8-2ed555598730"
      },
      "source": [
        "print(aye[6])"
      ],
      "execution_count": 157,
      "outputs": [
        {
          "output_type": "stream",
          "name": "stdout",
          "text": [
            "(['safety', 'low'], 'unacc')\n"
          ]
        }
      ]
    },
    {
      "cell_type": "code",
      "metadata": {
        "colab": {
          "base_uri": "https://localhost:8080/"
        },
        "id": "XZK6GkvLCisE",
        "outputId": "73ad2bd0-6382-40a5-c0e5-5ad66f621ce5"
      },
      "source": [
        "df_hey = df[df.safety == 'med']\n",
        "print(len(df_hey))\n",
        "df_hey = df_hey[df.persons == '4']\n",
        "print(len(df_hey))\n",
        "df_hey = df_hey[df.label == 'acc']\n",
        "print(len(df_hey))"
      ],
      "execution_count": 188,
      "outputs": [
        {
          "output_type": "stream",
          "name": "stdout",
          "text": [
            "344\n",
            "112\n",
            "54\n"
          ]
        },
        {
          "output_type": "stream",
          "name": "stderr",
          "text": [
            "/usr/local/lib/python3.7/dist-packages/ipykernel_launcher.py:3: UserWarning: Boolean Series key will be reindexed to match DataFrame index.\n",
            "  This is separate from the ipykernel package so we can avoid doing imports until\n",
            "/usr/local/lib/python3.7/dist-packages/ipykernel_launcher.py:5: UserWarning: Boolean Series key will be reindexed to match DataFrame index.\n",
            "  \"\"\"\n"
          ]
        }
      ]
    },
    {
      "cell_type": "code",
      "metadata": {
        "id": "l8QtQpEWMItN"
      },
      "source": [
        "def dict_path(my_dict, path=None):\n",
        "    if path is None:\n",
        "        path = []\n",
        "    for k,v in my_dict.items():\n",
        "        newpath = path + [k]\n",
        "        if isinstance(v, dict):\n",
        "            for u in dict_path(v, newpath):\n",
        "                yield u\n",
        "        else:\n",
        "            yield newpath, v"
      ],
      "execution_count": 71,
      "outputs": []
    },
    {
      "cell_type": "code",
      "metadata": {
        "id": "i3Xx2d7-lPdT"
      },
      "source": [
        "#TRAINING ERROR\n",
        "# DEPTH 1 -> 6\n",
        "# RECORD ERROR\n",
        "list_of_variants = [\"Entropy\",\"MajorityError\",\"Gini Index\"]\n",
        "error_dict_per_variant = {}\n",
        "for b in range(1,4):\n",
        "  error_dict_per_variant[list_of_variants[b-1]] = {}\n",
        "  error_counter = 0\n",
        "  for i in range(1,7):\n",
        "    train_tree = ID3(-1*float(\"inf\"),i,b,df,\"none\",tree=None)\n",
        "    train_tree_path = list(dict_path(train_tree,path=None))\n",
        "\n",
        "    #print(train_tree_path)\n",
        "\n",
        "    df_filter = df\n",
        "    for j in range(len(train_tree_path)):\n",
        "\n",
        "      curr_path = train_tree_path[j]\n",
        "      for a in range(0,len(curr_path[0])):\n",
        "        if (a % 2) == 0:\n",
        "          #print(curr_path)\n",
        "          #print(curr_path[0])\n",
        "          df_filter = df_filter[df_filter[curr_path[0][a]] == curr_path[0][a+1]]\n",
        "      \n",
        "\n",
        "      length = len(df_filter)\n",
        "      count_of_accuracies = len(df_filter[df_filter[df_filter.keys()[-1]] == curr_path[1]]) \n",
        "      count_of_inaccuracies = length - count_of_accuracies\n",
        "      if length == 0:\n",
        "        error_counter += 0\n",
        "      else:\n",
        "        error_counter += count_of_inaccuracies / length\n",
        "  \n",
        "  \n",
        "  error_dict_per_variant[list_of_variants[b-1]] = error_counter / 6    \n",
        "\n",
        "\n"
      ],
      "execution_count": 186,
      "outputs": []
    },
    {
      "cell_type": "code",
      "metadata": {
        "colab": {
          "base_uri": "https://localhost:8080/"
        },
        "id": "4G1-lSyp7Q2n",
        "outputId": "c7939a0b-4219-4bf2-8f12-cc0cb01ac964"
      },
      "source": [
        "error_dict_per_variant"
      ],
      "execution_count": 187,
      "outputs": [
        {
          "output_type": "execute_result",
          "data": {
            "text/plain": [
              "{'Entropy': 0.204700328407225,\n",
              " 'Gini Index': 0.204700328407225,\n",
              " 'MajorityError': 0.3078020253886749}"
            ]
          },
          "metadata": {},
          "execution_count": 187
        }
      ]
    },
    {
      "cell_type": "code",
      "metadata": {
        "id": "CYVZ3WN0J7p1"
      },
      "source": [
        ""
      ],
      "execution_count": null,
      "outputs": []
    }
  ]
}