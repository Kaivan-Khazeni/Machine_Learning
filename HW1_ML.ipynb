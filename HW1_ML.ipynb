{
  "nbformat": 4,
  "nbformat_minor": 0,
  "metadata": {
    "colab": {
      "name": "HW1_ML.ipynb",
      "provenance": [],
      "authorship_tag": "ABX9TyMK7wHT+dQ9p3Oc+VejvcSP",
      "include_colab_link": true
    },
    "kernelspec": {
      "name": "python3",
      "display_name": "Python 3"
    },
    "language_info": {
      "name": "python"
    }
  },
  "cells": [
    {
      "cell_type": "markdown",
      "metadata": {
        "id": "view-in-github",
        "colab_type": "text"
      },
      "source": [
        "<a href=\"https://colab.research.google.com/github/Kaivan-Khazeni/Machine_Learning/blob/main/HW1_ML.ipynb\" target=\"_parent\"><img src=\"https://colab.research.google.com/assets/colab-badge.svg\" alt=\"Open In Colab\"/></a>"
      ]
    },
    {
      "cell_type": "code",
      "metadata": {
        "colab": {
          "base_uri": "https://localhost:8080/"
        },
        "id": "o90RvbU3JbZh",
        "outputId": "3935c5d6-4090-4159-f581-2d63cbecb8ce"
      },
      "source": [
        "import pandas as pd\n",
        "import io\n",
        "%matplotlib inline\n",
        "import matplotlib.pyplot as plt\n",
        "plt.style.use('seaborn-whitegrid')\n",
        "\n",
        "import numpy as np\n",
        "import statsmodels.formula.api as smf\n",
        "import seaborn as sb"
      ],
      "execution_count": 2,
      "outputs": [
        {
          "output_type": "stream",
          "name": "stderr",
          "text": [
            "/usr/local/lib/python3.7/dist-packages/statsmodels/tools/_testing.py:19: FutureWarning: pandas.util.testing is deprecated. Use the functions in the public API at pandas.testing instead.\n",
            "  import pandas.util.testing as tm\n"
          ]
        }
      ]
    },
    {
      "cell_type": "code",
      "metadata": {
        "id": "ZA53uZodH6uM"
      },
      "source": [
        "labels_value = ['unacc','acc','good','vgood']\n",
        "#label is where the values of each item is stored.  It is not binary,\n",
        "#it is unacceptable, acceptable, good, very good.  This is different \n",
        "#then before\n",
        "attributes = ['buying','maint','doors','persons','lug_boot','safety','label']"
      ],
      "execution_count": 3,
      "outputs": []
    },
    {
      "cell_type": "code",
      "metadata": {
        "colab": {
          "base_uri": "https://localhost:8080/",
          "height": 204
        },
        "id": "Oi7cEq9vJgw7",
        "outputId": "01595699-711b-47a8-a46b-e2f36102cb52"
      },
      "source": [
        "df = pd.read_csv ('train.csv',names=attributes)\n",
        "df.head(5)"
      ],
      "execution_count": 4,
      "outputs": [
        {
          "output_type": "execute_result",
          "data": {
            "text/html": [
              "<div>\n",
              "<style scoped>\n",
              "    .dataframe tbody tr th:only-of-type {\n",
              "        vertical-align: middle;\n",
              "    }\n",
              "\n",
              "    .dataframe tbody tr th {\n",
              "        vertical-align: top;\n",
              "    }\n",
              "\n",
              "    .dataframe thead th {\n",
              "        text-align: right;\n",
              "    }\n",
              "</style>\n",
              "<table border=\"1\" class=\"dataframe\">\n",
              "  <thead>\n",
              "    <tr style=\"text-align: right;\">\n",
              "      <th></th>\n",
              "      <th>buying</th>\n",
              "      <th>maint</th>\n",
              "      <th>doors</th>\n",
              "      <th>persons</th>\n",
              "      <th>lug_boot</th>\n",
              "      <th>safety</th>\n",
              "      <th>label</th>\n",
              "    </tr>\n",
              "  </thead>\n",
              "  <tbody>\n",
              "    <tr>\n",
              "      <th>0</th>\n",
              "      <td>low</td>\n",
              "      <td>vhigh</td>\n",
              "      <td>4</td>\n",
              "      <td>4</td>\n",
              "      <td>big</td>\n",
              "      <td>med</td>\n",
              "      <td>acc</td>\n",
              "    </tr>\n",
              "    <tr>\n",
              "      <th>1</th>\n",
              "      <td>low</td>\n",
              "      <td>high</td>\n",
              "      <td>5more</td>\n",
              "      <td>4</td>\n",
              "      <td>med</td>\n",
              "      <td>high</td>\n",
              "      <td>vgood</td>\n",
              "    </tr>\n",
              "    <tr>\n",
              "      <th>2</th>\n",
              "      <td>vhigh</td>\n",
              "      <td>med</td>\n",
              "      <td>2</td>\n",
              "      <td>2</td>\n",
              "      <td>big</td>\n",
              "      <td>high</td>\n",
              "      <td>unacc</td>\n",
              "    </tr>\n",
              "    <tr>\n",
              "      <th>3</th>\n",
              "      <td>high</td>\n",
              "      <td>high</td>\n",
              "      <td>2</td>\n",
              "      <td>2</td>\n",
              "      <td>small</td>\n",
              "      <td>high</td>\n",
              "      <td>unacc</td>\n",
              "    </tr>\n",
              "    <tr>\n",
              "      <th>4</th>\n",
              "      <td>vhigh</td>\n",
              "      <td>low</td>\n",
              "      <td>3</td>\n",
              "      <td>2</td>\n",
              "      <td>big</td>\n",
              "      <td>low</td>\n",
              "      <td>unacc</td>\n",
              "    </tr>\n",
              "  </tbody>\n",
              "</table>\n",
              "</div>"
            ],
            "text/plain": [
              "  buying  maint  doors persons lug_boot safety  label\n",
              "0    low  vhigh      4       4      big    med    acc\n",
              "1    low   high  5more       4      med   high  vgood\n",
              "2  vhigh    med      2       2      big   high  unacc\n",
              "3   high   high      2       2    small   high  unacc\n",
              "4  vhigh    low      3       2      big    low  unacc"
            ]
          },
          "metadata": {},
          "execution_count": 4
        }
      ]
    },
    {
      "cell_type": "code",
      "metadata": {
        "colab": {
          "base_uri": "https://localhost:8080/",
          "height": 483
        },
        "id": "K-PPSOKImyH7",
        "outputId": "7ab57c27-f1ed-4ce0-deef-6e817f122dcd"
      },
      "source": [
        "test_dict = {'Outlook':['S','S','O','R','R','R','O','S','S','R','S','O','O','R'],\n",
        "         'Temp':['H','H','H','M','C','C','C','M','C','M','M','M','H','M'],\n",
        "         'Humid':['H','H','H','H','N','N','N','H','N','N','N','H','N','H'],\n",
        "         'Wind':['W','S','W','W','W','S','S','W','W','W','S','S','W','S'],\n",
        "         'Play':['-','-','+','+','+','-','+','-','+','+','+','+','+','-']}\n",
        "test_df = pd.DataFrame(test_dict)\n",
        "test_df"
      ],
      "execution_count": 5,
      "outputs": [
        {
          "output_type": "execute_result",
          "data": {
            "text/html": [
              "<div>\n",
              "<style scoped>\n",
              "    .dataframe tbody tr th:only-of-type {\n",
              "        vertical-align: middle;\n",
              "    }\n",
              "\n",
              "    .dataframe tbody tr th {\n",
              "        vertical-align: top;\n",
              "    }\n",
              "\n",
              "    .dataframe thead th {\n",
              "        text-align: right;\n",
              "    }\n",
              "</style>\n",
              "<table border=\"1\" class=\"dataframe\">\n",
              "  <thead>\n",
              "    <tr style=\"text-align: right;\">\n",
              "      <th></th>\n",
              "      <th>Outlook</th>\n",
              "      <th>Temp</th>\n",
              "      <th>Humid</th>\n",
              "      <th>Wind</th>\n",
              "      <th>Play</th>\n",
              "    </tr>\n",
              "  </thead>\n",
              "  <tbody>\n",
              "    <tr>\n",
              "      <th>0</th>\n",
              "      <td>S</td>\n",
              "      <td>H</td>\n",
              "      <td>H</td>\n",
              "      <td>W</td>\n",
              "      <td>-</td>\n",
              "    </tr>\n",
              "    <tr>\n",
              "      <th>1</th>\n",
              "      <td>S</td>\n",
              "      <td>H</td>\n",
              "      <td>H</td>\n",
              "      <td>S</td>\n",
              "      <td>-</td>\n",
              "    </tr>\n",
              "    <tr>\n",
              "      <th>2</th>\n",
              "      <td>O</td>\n",
              "      <td>H</td>\n",
              "      <td>H</td>\n",
              "      <td>W</td>\n",
              "      <td>+</td>\n",
              "    </tr>\n",
              "    <tr>\n",
              "      <th>3</th>\n",
              "      <td>R</td>\n",
              "      <td>M</td>\n",
              "      <td>H</td>\n",
              "      <td>W</td>\n",
              "      <td>+</td>\n",
              "    </tr>\n",
              "    <tr>\n",
              "      <th>4</th>\n",
              "      <td>R</td>\n",
              "      <td>C</td>\n",
              "      <td>N</td>\n",
              "      <td>W</td>\n",
              "      <td>+</td>\n",
              "    </tr>\n",
              "    <tr>\n",
              "      <th>5</th>\n",
              "      <td>R</td>\n",
              "      <td>C</td>\n",
              "      <td>N</td>\n",
              "      <td>S</td>\n",
              "      <td>-</td>\n",
              "    </tr>\n",
              "    <tr>\n",
              "      <th>6</th>\n",
              "      <td>O</td>\n",
              "      <td>C</td>\n",
              "      <td>N</td>\n",
              "      <td>S</td>\n",
              "      <td>+</td>\n",
              "    </tr>\n",
              "    <tr>\n",
              "      <th>7</th>\n",
              "      <td>S</td>\n",
              "      <td>M</td>\n",
              "      <td>H</td>\n",
              "      <td>W</td>\n",
              "      <td>-</td>\n",
              "    </tr>\n",
              "    <tr>\n",
              "      <th>8</th>\n",
              "      <td>S</td>\n",
              "      <td>C</td>\n",
              "      <td>N</td>\n",
              "      <td>W</td>\n",
              "      <td>+</td>\n",
              "    </tr>\n",
              "    <tr>\n",
              "      <th>9</th>\n",
              "      <td>R</td>\n",
              "      <td>M</td>\n",
              "      <td>N</td>\n",
              "      <td>W</td>\n",
              "      <td>+</td>\n",
              "    </tr>\n",
              "    <tr>\n",
              "      <th>10</th>\n",
              "      <td>S</td>\n",
              "      <td>M</td>\n",
              "      <td>N</td>\n",
              "      <td>S</td>\n",
              "      <td>+</td>\n",
              "    </tr>\n",
              "    <tr>\n",
              "      <th>11</th>\n",
              "      <td>O</td>\n",
              "      <td>M</td>\n",
              "      <td>H</td>\n",
              "      <td>S</td>\n",
              "      <td>+</td>\n",
              "    </tr>\n",
              "    <tr>\n",
              "      <th>12</th>\n",
              "      <td>O</td>\n",
              "      <td>H</td>\n",
              "      <td>N</td>\n",
              "      <td>W</td>\n",
              "      <td>+</td>\n",
              "    </tr>\n",
              "    <tr>\n",
              "      <th>13</th>\n",
              "      <td>R</td>\n",
              "      <td>M</td>\n",
              "      <td>H</td>\n",
              "      <td>S</td>\n",
              "      <td>-</td>\n",
              "    </tr>\n",
              "  </tbody>\n",
              "</table>\n",
              "</div>"
            ],
            "text/plain": [
              "   Outlook Temp Humid Wind Play\n",
              "0        S    H     H    W    -\n",
              "1        S    H     H    S    -\n",
              "2        O    H     H    W    +\n",
              "3        R    M     H    W    +\n",
              "4        R    C     N    W    +\n",
              "5        R    C     N    S    -\n",
              "6        O    C     N    S    +\n",
              "7        S    M     H    W    -\n",
              "8        S    C     N    W    +\n",
              "9        R    M     N    W    +\n",
              "10       S    M     N    S    +\n",
              "11       O    M     H    S    +\n",
              "12       O    H     N    W    +\n",
              "13       R    M     H    S    -"
            ]
          },
          "metadata": {},
          "execution_count": 5
        }
      ]
    },
    {
      "cell_type": "code",
      "metadata": {
        "colab": {
          "base_uri": "https://localhost:8080/"
        },
        "id": "1U1ALKroW9Cl",
        "outputId": "23c49b3e-0d83-49de-8611-6e99440812e0"
      },
      "source": [
        "dummy_df = df[[\"buying\" ,\"label\"]]\n",
        "\n",
        "dummy_df['buying'].unique()\n"
      ],
      "execution_count": 66,
      "outputs": [
        {
          "output_type": "execute_result",
          "data": {
            "text/plain": [
              "array(['low', 'vhigh', 'high', 'med'], dtype=object)"
            ]
          },
          "metadata": {},
          "execution_count": 66
        }
      ]
    },
    {
      "cell_type": "code",
      "metadata": {
        "colab": {
          "base_uri": "https://localhost:8080/"
        },
        "id": "RDPcL5eJlVZw",
        "outputId": "5a27ad21-a0d1-4aa1-cd1f-40276945a317"
      },
      "source": [
        "dummy_low = dummy_df[df.buying =='med']\n",
        "print(len(dummy_low))\n",
        "len(dummy_low[dummy_low.label == \"good\"])"
      ],
      "execution_count": 96,
      "outputs": [
        {
          "output_type": "stream",
          "name": "stdout",
          "text": [
            "248\n"
          ]
        },
        {
          "output_type": "execute_result",
          "data": {
            "text/plain": [
              "17"
            ]
          },
          "metadata": {},
          "execution_count": 96
        }
      ]
    },
    {
      "cell_type": "code",
      "metadata": {
        "colab": {
          "base_uri": "https://localhost:8080/"
        },
        "id": "V4rpmSpnlt6a",
        "outputId": "d9e584b9-c259-4f9d-8939-805e244dfabc"
      },
      "source": [
        "dummy_low.label.unique()"
      ],
      "execution_count": 72,
      "outputs": [
        {
          "output_type": "execute_result",
          "data": {
            "text/plain": [
              "array(['acc', 'vgood', 'unacc', 'good'], dtype=object)"
            ]
          },
          "metadata": {},
          "execution_count": 72
        }
      ]
    },
    {
      "cell_type": "code",
      "metadata": {
        "colab": {
          "base_uri": "https://localhost:8080/"
        },
        "id": "rV93k-E-5d-J",
        "outputId": "9656087c-2cd6-4f46-bd98-9e7935f69693"
      },
      "source": [
        "test_dictB = {'A':['K','A','I','K','A'],\n",
        "         'B':['A','A','C','B','B'],\n",
        "         'Y':['yes','no','so','maybe','so']}\n",
        "test_dfB = pd.DataFrame(test_dictB)\n",
        "test_dfB['A']"
      ],
      "execution_count": 102,
      "outputs": [
        {
          "output_type": "execute_result",
          "data": {
            "text/plain": [
              "0    K\n",
              "1    A\n",
              "2    I\n",
              "3    K\n",
              "4    A\n",
              "Name: A, dtype: object"
            ]
          },
          "metadata": {},
          "execution_count": 102
        }
      ]
    },
    {
      "cell_type": "code",
      "metadata": {
        "id": "isJqW1BxNqGp"
      },
      "source": [
        "attribute_values = {\n",
        "    \"buying\": df['buying'].unique(),\n",
        "    \"maint\": df['maint'].unique(),\n",
        "    \"doors\": df['doors'].unique(),\n",
        "    \"persons\": df['persons'].unique(),\n",
        "    \"lug_boot\": df['lug_boot'].unique(),\n",
        "    \"safety\": df['safety'].unique()\n",
        "}"
      ],
      "execution_count": 7,
      "outputs": []
    },
    {
      "cell_type": "code",
      "metadata": {
        "colab": {
          "base_uri": "https://localhost:8080/",
          "height": 204
        },
        "id": "PItf2yNyTeoc",
        "outputId": "521afb12-c91b-44d2-97ec-bfbcd4c6c6df"
      },
      "source": [
        "hey = test_df[['Outlook',test_df.keys()[-1]]]\n",
        "hey[hey[\"Outlook\"] == \"S\"]"
      ],
      "execution_count": 8,
      "outputs": [
        {
          "output_type": "execute_result",
          "data": {
            "text/html": [
              "<div>\n",
              "<style scoped>\n",
              "    .dataframe tbody tr th:only-of-type {\n",
              "        vertical-align: middle;\n",
              "    }\n",
              "\n",
              "    .dataframe tbody tr th {\n",
              "        vertical-align: top;\n",
              "    }\n",
              "\n",
              "    .dataframe thead th {\n",
              "        text-align: right;\n",
              "    }\n",
              "</style>\n",
              "<table border=\"1\" class=\"dataframe\">\n",
              "  <thead>\n",
              "    <tr style=\"text-align: right;\">\n",
              "      <th></th>\n",
              "      <th>Outlook</th>\n",
              "      <th>Play</th>\n",
              "    </tr>\n",
              "  </thead>\n",
              "  <tbody>\n",
              "    <tr>\n",
              "      <th>0</th>\n",
              "      <td>S</td>\n",
              "      <td>-</td>\n",
              "    </tr>\n",
              "    <tr>\n",
              "      <th>1</th>\n",
              "      <td>S</td>\n",
              "      <td>-</td>\n",
              "    </tr>\n",
              "    <tr>\n",
              "      <th>7</th>\n",
              "      <td>S</td>\n",
              "      <td>-</td>\n",
              "    </tr>\n",
              "    <tr>\n",
              "      <th>8</th>\n",
              "      <td>S</td>\n",
              "      <td>+</td>\n",
              "    </tr>\n",
              "    <tr>\n",
              "      <th>10</th>\n",
              "      <td>S</td>\n",
              "      <td>+</td>\n",
              "    </tr>\n",
              "  </tbody>\n",
              "</table>\n",
              "</div>"
            ],
            "text/plain": [
              "   Outlook Play\n",
              "0        S    -\n",
              "1        S    -\n",
              "7        S    -\n",
              "8        S    +\n",
              "10       S    +"
            ]
          },
          "metadata": {},
          "execution_count": 8
        }
      ]
    },
    {
      "cell_type": "code",
      "metadata": {
        "id": "p0nCyhhfC7Z6"
      },
      "source": [
        ""
      ],
      "execution_count": 46,
      "outputs": []
    },
    {
      "cell_type": "markdown",
      "metadata": {
        "id": "I750cyP9WPtN"
      },
      "source": [
        ""
      ]
    },
    {
      "cell_type": "code",
      "metadata": {
        "colab": {
          "base_uri": "https://localhost:8080/"
        },
        "id": "35R5pyCmUGpN",
        "outputId": "99291ac0-8c8c-413f-f07a-1ae390624da8"
      },
      "source": [
        "decision_table = ID3(6,2,test_df,\"none\",tree=None)\n",
        "decision_table"
      ],
      "execution_count": 150,
      "outputs": [
        {
          "output_type": "execute_result",
          "data": {
            "text/plain": [
              "{'Humid': 0.07142857142857145,\n",
              " 'Outlook': 0.0714285714285714,\n",
              " 'Temp': 5.551115123125783e-17,\n",
              " 'Wind': 5.551115123125783e-17}"
            ]
          },
          "metadata": {},
          "execution_count": 150
        }
      ]
    },
    {
      "cell_type": "code",
      "metadata": {
        "colab": {
          "base_uri": "https://localhost:8080/"
        },
        "id": "YrMEsMICLjJ5",
        "outputId": "d0108407-a4a5-4f67-fde7-146ed7be4932"
      },
      "source": [
        "import pprint\n",
        "\n",
        "pprint.pprint(decision_table)"
      ],
      "execution_count": 138,
      "outputs": [
        {
          "output_type": "stream",
          "name": "stdout",
          "text": [
            "{'Humid': 0.0, 'Outlook': 0.0, 'Temp': 0.0, 'Wind': 0.0}\n"
          ]
        }
      ]
    },
    {
      "cell_type": "markdown",
      "metadata": {
        "id": "CEBOdxHzLwoO"
      },
      "source": [
        "ID3 function below will take in a depth parameter and a variant indicator.  This way, we can specify if we want\n",
        "to use Entropy, ME, or Gini Index.  It will also take in the S table."
      ]
    },
    {
      "cell_type": "code",
      "metadata": {
        "id": "vnihSoBhOgOB"
      },
      "source": [
        "#max depth will range from 1 - 6\n",
        "def ID3(max_depth, variant,S,A,tree=None):\n",
        "  Class = S.keys()[-1]\n",
        "  #Step 1: check if all examplesa have the same label\n",
        "  #keep counter to make sure iterations do not exceed the max depth\n",
        "  if max_depth >= 0:\n",
        "    \n",
        "    #print(\"In this call 1, 2 ..\")\n",
        "    #Finding root based off of gain\n",
        "    #A. Find Total entropy using variant\n",
        "    total_entropy = find_total_entropy(variant,S)\n",
        "    #print(\"Found total entropy 1,2\")\n",
        "    #print(total_entropy)\n",
        "    #B. Now find the best split, which is A.\n",
        "    table_attributes = S.loc[:,S.columns != S.keys()[-1]].columns\n",
        "    #print(table_attributes)\n",
        "\n",
        "    best_A = find_best_split(variant,table_attributes,S,total_entropy)\n",
        "    #print(\"Found A\")\n",
        "   \n",
        "    return best_A\n",
        "    A = sorted(best_A.items(), key=lambda x: x[1],reverse=True)[0][0]\n",
        "\n",
        "    #print(A)\n",
        "    if tree is None:                    \n",
        "      tree={}\n",
        "      tree[A] = {}\n",
        "\n",
        "    \n",
        "    values_of_A = S[A].unique()\n",
        "\n",
        "    for A_val in values_of_A:\n",
        "      Sv = S.loc[S[A]==A_val,S.columns != A]\n",
        "      common,counts = np.unique(Sv[Sv.keys()[-1]],return_counts=True)\n",
        "\n",
        "      if len(counts) == 1:\n",
        "        tree[A][A_val] = common[0]\n",
        "      else:\n",
        "        tree[A][A_val] = ID3(max_depth-1,variant,Sv,A,tree=None)     \n",
        "    return tree\n",
        "    \n",
        "\n",
        "\n",
        "      \n"
      ],
      "execution_count": 140,
      "outputs": []
    },
    {
      "cell_type": "code",
      "metadata": {
        "id": "3Idbf_Aj4lp-"
      },
      "source": [
        "def find_best_split(variant,attr,S,total_ent):\n",
        "  #Need to check the\n",
        "  \n",
        "  list_of_IG = {}\n",
        "  for A1 in attr:\n",
        "    curr_attr = A1\n",
        "    curr_df = S[[curr_attr,S.keys()[-1]]]\n",
        "    \n",
        "    len_A1_df = len(curr_df[curr_attr])\n",
        "    found_sum_expected_entropy = 0\n",
        "    all_attr_values = curr_df[curr_attr].unique()\n",
        "    #print(all_attr_values)\n",
        "    #print(counter)\n",
        "    for A2 in all_attr_values:\n",
        "      \n",
        "      attribute_specific = curr_df[curr_df[curr_attr] == A2]\n",
        "      #print(attribute_specific)\n",
        "      found_expected_entropy = 0\n",
        "      entropy = find_total_entropy(variant,attribute_specific)\n",
        "      if (entropy == 1 and variant == 2):\n",
        "        entropy = 0\n",
        "      #print(entropy)\n",
        "      found_sum_expected_entropy += (entropy * (len(attribute_specific)/len_A1_df))\n",
        "    #print(found_sum_expected_entropy)\n",
        "    list_of_IG[A1] = total_ent - found_sum_expected_entropy   \n",
        "  return list_of_IG\n"
      ],
      "execution_count": 149,
      "outputs": []
    },
    {
      "cell_type": "code",
      "metadata": {
        "id": "tMEx8rkfPskT"
      },
      "source": [
        "def find_gain(total_entropy,expec):\n",
        "  if variant == 1:\n",
        "    #use entropy\n",
        "    d\n",
        "  if variant == 2:\n",
        "    d\n",
        "    #use ME\n",
        "  if variant == 3:\n",
        "    d\n",
        "    #use Gini Index"
      ],
      "execution_count": 12,
      "outputs": []
    },
    {
      "cell_type": "code",
      "metadata": {
        "id": "V3gZ0lfTMFnj"
      },
      "source": [
        "def find_total_entropy(variant,S):\n",
        "  if variant == 1:\n",
        "    #use entropy\n",
        "    type_name = S.keys()[-1]\n",
        "    entropy = 0\n",
        "    label_names = S[type_name].unique()\n",
        "    for val in label_names:\n",
        "      #print(val)\n",
        "      p = S[type_name].value_counts()[val] / len(S[type_name])\n",
        "      #print(p)\n",
        "      entropy += -p*np.log2(p)\n",
        "    return entropy\n",
        "  elif variant == 2:\n",
        "    counter = len(labels_value)\n",
        "    \n",
        "    #use ME\n",
        "    type_name = S.keys()[-1]  \n",
        "    #ME = 0\n",
        "    label_names = S[type_name].unique()\n",
        "    list_of_prob = []\n",
        "    for val in label_names:\n",
        "      #print(S)\n",
        "      #print(val)\n",
        "      #print(S[type_name].value_counts()[val])\n",
        "      p = S[type_name].value_counts()[val] / len(S)\n",
        "      list_of_prob.append(p)\n",
        "    return np.min(list_of_prob)\n",
        "  elif variant == 3:\n",
        "    #use gini\n",
        "    type_name = S.keys()[-1]\n",
        "    #Gini = 0\n",
        "    label_names = S[type_name].unique()\n",
        "    sum_p = 0\n",
        "    for val in label_names:\n",
        "      p = S[type_name].value_counts()[val] / len(S[type_name])\n",
        "      sum_p += np.square(p)\n",
        "\n",
        "    return 1 - sum_p"
      ],
      "execution_count": 148,
      "outputs": []
    },
    {
      "cell_type": "code",
      "metadata": {
        "id": "tJfEvqhsMQd9"
      },
      "source": [
        "\n",
        "  "
      ],
      "execution_count": null,
      "outputs": []
    },
    {
      "cell_type": "code",
      "metadata": {
        "id": "l8QtQpEWMItN"
      },
      "source": [
        ""
      ],
      "execution_count": null,
      "outputs": []
    }
  ]
}